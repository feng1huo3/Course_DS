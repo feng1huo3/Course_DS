{
 "cells": [
  {
   "cell_type": "markdown",
   "metadata": {},
   "source": [
    "# <center> Homework 1 </center>"
   ]
  },
  {
   "cell_type": "markdown",
   "metadata": {},
   "source": [
    "# 0. Где мы сейчас?\n",
    "<img src=\"https://upload.wikimedia.org/wikipedia/commons/thumb/3/38/Jupyter_logo.svg/1200px-Jupyter_logo.svg.png\" width=\"150\">\n",
    "\n",
    "[Jupyter Notebook](https://jupyter.org/) - интерактивная среда для запуска программного кода в браузере. Удобный инструмент для анализа данных, который используется многими специалистами по data science. Позволяет выполнять отдельные ячейки с кодом, а не всю программу сразу, что очень удобно при знакомстве с данными."
   ]
  },
  {
   "cell_type": "markdown",
   "metadata": {},
   "source": [
    "# 1. Python\n",
    "> Python - это свободный интерпретируемый объектно-ориентированный расширяемый встраиваемый язык программирования очень высокого уровня \n",
    "\n",
    ">*(Г.Россум, Ф.Л.Дж.Дрейк, Д.С.Откидач \"Язык программирования Python\").*\n",
    "\n",
    "А если без цитат, то питон - это просто очень крутой язык, созданный в 1991 году [Великодушным пожизненным диктатором](https://ru.wikipedia.org/wiki/%D0%92%D0%B5%D0%BB%D0%B8%D0%BA%D0%BE%D0%B4%D1%83%D1%88%D0%BD%D1%8B%D0%B9_%D0%BF%D0%BE%D0%B6%D0%B8%D0%B7%D0%BD%D0%B5%D0%BD%D0%BD%D1%8B%D0%B9_%D0%B4%D0%B8%D0%BA%D1%82%D0%B0%D1%82%D0%BE%D1%80) Гвидо ван Россумом и названный в честь любимого им шоу [Monty Python's Flying Circus](https://en.wikipedia.org/wiki/Monty_Python%27s_Flying_Circus)\n",
    "\n",
    "<img src=\"https://advancelocal-adapter-image-uploads.s3.amazonaws.com/image.oregonlive.com/home/olive-media/width2048/img/tv/photo/2018/10/10/montycastjpg-7ef393e2355a42aa.jpg\" width=\"300\">"
   ]
  },
  {
   "cell_type": "markdown",
   "metadata": {},
   "source": [
    "# 2. Anaconda\n",
    "\n",
    "<img src=\"https://cdn-images-1.medium.com/max/1600/0*MVkCW8_Bmj-nuAnI.png\" width=\"300\">\n",
    "\n",
    "[Сборка Anaconda](https://www.anaconda.com/products/individual) включает очень много полезных библиотек для анализа данных. \n",
    "\n",
    "Среди наиболее популярных библиотек:\n",
    " - <a href=\"http://numpy.org\">Numpy</a> - это один из основных пакетов для математических вычислений. Он содержит средства для работы с многомерными массивами и высокоуровневыми математическими функциями\n",
    " - <a href=\"https://www.scipy.org/\">SciPy</a> - научные вычисления. Методы оптимизации, интегрирования, модули обработки сигналов и изображений, статистика, линейная алгебра, сплайны, кластеризация и многое другое\n",
    " -  <a href=\"http://pandas.pydata.org/\">Pandas</a> - основная библиотека для обработки и анализа данных. Предназначена для данных разной природы - матричных, панельных данных, временных рядов. Претендует на звание самого мощного и гибкого средства для анализа данных с открытым исходным кодом\n",
    " - <a href=\"http://scikit-learn.org/stable/\">Scikit-learn</a> - реализация очень многих методов машинного обучения с отличной документацией. \n",
    " - <a href=\"http://http://matplotlib.org/\">matplotlib</a> - хорошая библиотека для визуализации данных"
   ]
  },
  {
   "cell_type": "markdown",
   "metadata": {},
   "source": [
    "# 3. Задачки"
   ]
  },
  {
   "cell_type": "markdown",
   "metadata": {},
   "source": [
    "## Задача 1\n",
    "$N$ хоббитов делят $K$ кусков эльфийского хлеба поровну, не делящийся нацело остаток остается в корзинке у Сэма. Напишите функцию, которая принимает на вход параметры $N$ и $K$ и возвращает два числа: $x$ - cколько кусков эльфиского хлеба достанется каждому хоббиту, и $y$ - сколько кусков остаётся в корзинке."
   ]
  },
  {
   "cell_type": "code",
   "execution_count": 54,
   "metadata": {},
   "outputs": [
    {
     "name": "stdout",
     "output_type": "stream",
     "text": [
      "Сколько сегодня хоббитов? 3\n",
      "А сколько у нас кусков хлеба? 14\n",
      "Каждому страдальцу достанется по 4, а в корзинке - 2.\n",
      "******************************\n",
      "(4, 2)\n"
     ]
    }
   ],
   "source": [
    "N = int(input('Сколько сегодня хоббитов? '))\n",
    "K = int(input('А сколько у нас кусков хлеба? '))\n",
    "if N <= K:\n",
    "    def share_bread(N, K):\n",
    "        x = K // N\n",
    "        y = K % N\n",
    "        return x, y\n",
    "    res = share_bread(N, K)\n",
    "    print(f'Каждому страдальцу достанется по {res[0]}, а в корзинке - {res[1]}.')\n",
    "else:\n",
    "    print('Хоббиты остались голодными.')\n",
    "\n",
    "print('******************************')\n",
    "print(share_bread(N, K))\n",
    "# если в функции всё верно, то после выполнения этой строчки, не должно выскакивать ошибок\n",
    "assert share_bread(N=3, K=14) == (4, 2)"
   ]
  },
  {
   "cell_type": "markdown",
   "metadata": {},
   "source": [
    "## Задача 2\n",
    "\n",
    "В копях Мории хоббиты нашли стену, на которой высечены разные натуральные числа. Согласно древним сказаниям, это даты сражений. Хоббиты знают, что сражения происходили только по високосным годам. Помогите хоббитам определить, является ли год с данным числом датой великого сражения. Если это так, то верните строку \"YOU SHALL PASS\", иначе верните \"YOU SHALL NOT PASS\". Напомним, что в соответствии с хоббитским календарем, год является високосным, если его номер кратен 4, но не кратен 100, а также если он кратен 400."
   ]
  },
  {
   "cell_type": "code",
   "execution_count": 56,
   "metadata": {},
   "outputs": [
    {
     "name": "stdout",
     "output_type": "stream",
     "text": [
      "Какое число высечено на стене? 6\n",
      "YOU SHALL NOT PASS\n"
     ]
    }
   ],
   "source": [
    "year = int(input('Какое число высечено на стене? '))\n",
    "def leap_year(year):\n",
    "    if (year % 4 == 0 and year % 100 != 0) or year % 400 == 0:\n",
    "        text_result = \"YOU SHALL PASS\"\n",
    "    else:\n",
    "        text_result = \"YOU SHALL NOT PASS\"\n",
    "    return text_result\n",
    "print(leap_year(year))\n",
    "\n",
    "assert leap_year(5) == 'YOU SHALL NOT PASS'"
   ]
  },
  {
   "cell_type": "markdown",
   "metadata": {},
   "source": [
    "## Задача 3\n",
    "<img src=\"http://i0.kym-cdn.com/photos/images/original/001/187/255/5e9.gif\" width=300>\n",
    "Для могущественного магического ритуала Гендальфу необходимо быстро подсчитывать площадь своего амулета, который умеет менять размеры. Известно, что амулет имеет форму треугольника и Гендальф знает длину каждой из сторон. Напишите функцию, которая считает площадь амулета по трем сторонам.  \n",
    "\n",
    "Подсказка: используйте формулу Герона\n",
    "$$ S = \\sqrt{p(p-a)(p-b)(p-c)} $$\n",
    "$$ p = \\frac{a + b + c}{2}$$\n"
   ]
  },
  {
   "cell_type": "code",
   "execution_count": 57,
   "metadata": {},
   "outputs": [
    {
     "name": "stdout",
     "output_type": "stream",
     "text": [
      "Введите сторону: 3\n",
      "Веедите ишшо сторону: 4\n",
      "И третью: 5\n",
      "Площадь амулета Гендальфа - 6\n"
     ]
    }
   ],
   "source": [
    "from math import sqrt\n",
    "\n",
    "def amulet_area(a, b, c):\n",
    "        p = (a + b + c)/2\n",
    "        S = int(sqrt(p * (p - a) * (p - b) * (p - c)))\n",
    "        return S\n",
    "    \n",
    "a = int(input('Введите сторону: '))\n",
    "b = int(input('Веедите ишшо сторону: '))\n",
    "c = int(input('И третью: '))\n",
    "if a + b > c and a + c > b and b + c > a:\n",
    "    print(f'Площадь амулета Гендальфа - {amulet_area(a, b, c)}')\n",
    "else:\n",
    "    print('Не бывает таких амулетов, Гендальф, измеряй ещё раз.')\n",
    "\n",
    "assert amulet_area(3, 4, 5) == 6"
   ]
  },
  {
   "cell_type": "markdown",
   "metadata": {},
   "source": [
    "## Задача 4\n",
    "\n",
    "Хоббиты собираются пешком идти до Мордора и им нужно подсчитать расстояние, которое им предстоит пройти. Хоббиты смогли вспомнить сразу несколько метрик расстояния: евклидово, манхэттена и косинусное, так что ваша задача - напистаь функцию под каждую из них. Важное условие - используйте только базовые функции numpy для решения.\n",
    "\n",
    "\n",
    "* Евклидово расстояние\n",
    "$$ d(a, b) = \\sqrt{\\sum_i (a_i - b_i)^2} $$\n",
    "* Расстояние Манхэттена\n",
    "$$ d(a, b) = \\sum_i |a_i - b_i| $$\n",
    "* Косинусное расстояние\n",
    "$$ d(a, b) = 1 - \\frac{a^\\top b}{||a||_2\\cdot||b||_2}$$"
   ]
  },
  {
   "cell_type": "code",
   "execution_count": 58,
   "metadata": {},
   "outputs": [],
   "source": [
    "import numpy as np"
   ]
  },
  {
   "cell_type": "code",
   "execution_count": 62,
   "metadata": {},
   "outputs": [
    {
     "name": "stdout",
     "output_type": "stream",
     "text": [
      "В каком пространстве обретаетесь, хоббиты? 3\n",
      "Координаты точки пребывания: 2 3 4\n",
      "Координаты Мордора: 6 9 17\n",
      "Евклидово расстояние до Мордора - 14.87,\n",
      "а манхэттенское - 23,\n",
      "Близко ли в смысле косинуса? - 0.013898176392089345.\n"
     ]
    }
   ],
   "source": [
    "N = int(input('В каком пространстве обретаетесь, хоббиты? '))\n",
    "dot_1 = list(map(int, input('Координаты точки пребывания: ').split()[:N]))\n",
    "dot_2 = list(map(int, input('Координаты Мордора: ').split()[:N]))\n",
    "a = np.array(dot_1)\n",
    "b = np.array(dot_2)\n",
    "\n",
    "def cal_euclidean(a, b):\n",
    "    sum_square = np.sum(np.square(a - b))\n",
    "    distance = round(np.sqrt(sum_square), 2)\n",
    "    return distance\n",
    "\n",
    "print(f'Евклидово расстояние до Мордора - {cal_euclidean(a, b)},')\n",
    "\n",
    "def cal_manhattan(a, b):    \n",
    "    distance = np.sum(abs(a - b))\n",
    "    return distance\n",
    "\n",
    "print(f'а манхэттенское - {cal_manhattan(a, b)},')\n",
    "\n",
    "def cal_cosine(a, b): \n",
    "    norm_a = np.sqrt((np.sum(np.square(a)))) #norm_a = np.linalg.norm(a)\n",
    "    norm_b = np.sqrt((np.sum(np.square(b)))) #norm_b = np.linalg.norm(b)\n",
    "    scal = np.dot(a.T, b)\n",
    "    scal_norm = scal/(norm_a*norm_b)\n",
    "    #print(f'и косинусное сходство - {scal_norm}')\n",
    "    distance = 1 - scal_norm\n",
    "    return distance\n",
    "\n",
    "print(f'Близко ли в смысле косинуса? - {cal_cosine(a, b)}.')"
   ]
  },
  {
   "cell_type": "markdown",
   "metadata": {},
   "source": [
    "### Чем ближе косинус(scal_norm) к единице (большое косинусное сходство), тем меньше сил потратят хоббиты на дорогу, ибо значит, что до Мордора - рукой подать(distance)."
   ]
  },
  {
   "cell_type": "code",
   "execution_count": 63,
   "metadata": {},
   "outputs": [
    {
     "name": "stdout",
     "output_type": "stream",
     "text": [
      "28.57\n",
      "76\n",
      "1.1982419768998094\n"
     ]
    }
   ],
   "source": [
    "a = np.random.randint(-10, 10, size=10)\n",
    "b = np.random.randint(-10, 10, size=10)\n",
    "print(cal_euclidean(a, b))\n",
    "print(cal_manhattan(a, b))\n",
    "print(cal_cosine(a, b))"
   ]
  },
  {
   "cell_type": "markdown",
   "metadata": {},
   "source": [
    "## Задача 5\n",
    "\n",
    "Ну и напоследок, еще немного практики numpy, без которой не обходится ни один хоббит.\n"
   ]
  },
  {
   "cell_type": "markdown",
   "metadata": {},
   "source": [
    "Создайте случайный array (`np.random.rand()`) длинной 100. Преобразуйте его так, чтобы\n",
    "* Максимальный элемент(ы) был равен 1\n",
    "* Минимальный элемент(ы) был равен 0\n",
    "* Остальные элементы в итнтервале от 0 до 1 остаются прежними"
   ]
  },
  {
   "cell_type": "code",
   "execution_count": 64,
   "metadata": {},
   "outputs": [
    {
     "name": "stdout",
     "output_type": "stream",
     "text": [
      "1.0 0.0\n",
      "[0.91770914 0.56218086 0.37146438 0.95213841 0.39143565 0.66213793\n",
      " 0.851465   0.0180497  0.47099014 0.18560274 0.79177372 0.34427851\n",
      " 0.06828657 0.72255722 0.87945969 0.26442158 0.66215822 0.441004\n",
      " 0.54740312 0.16992459 0.72101808 0.80426532 0.10017936 0.82626644\n",
      " 0.785867   0.28783959 1.         0.51337129 0.24708488 0.78888787\n",
      " 0.82032722 0.54177798 0.39477233 0.30334929 0.59380883 0.84247388\n",
      " 0.37087982 0.42313828 0.70474853 0.95663793 0.8604419  0.2577127\n",
      " 0.60927409 0.13901405 0.54782381 0.33631173 0.27304007 0.68942606\n",
      " 0.3754098  0.0179313  0.62581763 0.26744262 0.01628871 0.97243226\n",
      " 0.70531673 0.68835804 0.08471051 0.21345575 0.32369497 0.72125969\n",
      " 0.3758914  0.81270367 0.83129905 0.0209324  0.         0.54091297\n",
      " 0.92798667 0.8271423  0.76330292 0.7783417  0.62021342 0.1978857\n",
      " 0.2648782  0.54852407 0.65136343 0.98100804 0.27362247 0.07176265\n",
      " 0.46205008 0.4147447  0.51022147 0.73214809 0.1972587  0.01613854\n",
      " 0.04562057 0.16289409 0.78180015 0.37404583 0.85630416 0.56218828\n",
      " 0.42587269 0.29874955 0.89249206 0.58514737 0.46389744 0.73383892\n",
      " 0.83879269 0.75426872 0.86493785 0.42338834]\n"
     ]
    }
   ],
   "source": [
    "my_array = np.random.rand(100)\n",
    "my_array[my_array == np.min(my_array)] = 0\n",
    "my_array[my_array == np.max(my_array)] = 1\n",
    "print(np.max(my_array), np.min(my_array))\n",
    "print(my_array)"
   ]
  },
  {
   "cell_type": "markdown",
   "metadata": {},
   "source": [
    "Создайте array размером $5 \\times 6$ с целыми числами в интервале [0,50]. Напечатайте колонку, которая содержит максимальный элемент полученной матрицы "
   ]
  },
  {
   "cell_type": "code",
   "execution_count": 65,
   "metadata": {},
   "outputs": [
    {
     "name": "stdout",
     "output_type": "stream",
     "text": [
      "Shape:  (5, 6)\n",
      "Array\n",
      "[[34  4 48 50 38 11]\n",
      " [29 33  0 31  1 35]\n",
      " [ 7 16  2 19 45 39]\n",
      " [24 33 38  7 38 11]\n",
      " [16 20 13 16 23 18]]\n",
      "Максимальный элемент: 50\n",
      "Колонка, содержащая а: [50 31 19  7 16]\n"
     ]
    }
   ],
   "source": [
    "my_array = np.random.randint(0, 51, (5, 6))\n",
    "selected_column = my_array[:, np.argmax(my_array.max(axis=0))]\n",
    "print('Shape: ',my_array.shape)\n",
    "print('Array')\n",
    "print(my_array)\n",
    "a = np.max(my_array)\n",
    "print(f'Максимальный элемент: {a}')\n",
    "print(f'Колонка, содержащая а: {selected_column}')"
   ]
  },
  {
   "cell_type": "markdown",
   "metadata": {},
   "source": [
    "Напишите функцию, которая принимает на вход матрицу (array) X и возвращает все её уникальные строки в виде новой матрицы."
   ]
  },
  {
   "cell_type": "code",
   "execution_count": 66,
   "metadata": {},
   "outputs": [],
   "source": [
    "def get_unique_rows(X):\n",
    "    X_unique = np.unique(X, axis=0)\n",
    "    return X_unique"
   ]
  },
  {
   "cell_type": "code",
   "execution_count": 67,
   "metadata": {},
   "outputs": [
    {
     "name": "stdout",
     "output_type": "stream",
     "text": [
      "[[5 4 4]\n",
      " [4 4 5]\n",
      " [4 5 4]\n",
      " [5 4 4]\n",
      " [5 4 5]\n",
      " [5 4 4]\n",
      " [4 5 5]\n",
      " [4 5 5]\n",
      " [4 4 4]\n",
      " [5 5 4]]\n"
     ]
    }
   ],
   "source": [
    "X = np.random.randint(4, 6, size=(10,3))\n",
    "print(X)"
   ]
  },
  {
   "cell_type": "code",
   "execution_count": 68,
   "metadata": {},
   "outputs": [
    {
     "data": {
      "text/plain": [
       "array([[4, 4, 4],\n",
       "       [4, 4, 5],\n",
       "       [4, 5, 4],\n",
       "       [4, 5, 5],\n",
       "       [5, 4, 4],\n",
       "       [5, 4, 5],\n",
       "       [5, 5, 4]])"
      ]
     },
     "execution_count": 68,
     "metadata": {},
     "output_type": "execute_result"
    }
   ],
   "source": [
    "get_unique_rows(X)"
   ]
  },
  {
   "cell_type": "code",
   "execution_count": null,
   "metadata": {},
   "outputs": [],
   "source": []
  }
 ],
 "metadata": {
  "kernelspec": {
   "display_name": "Python 3 (ipykernel)",
   "language": "python",
   "name": "python3"
  },
  "language_info": {
   "codemirror_mode": {
    "name": "ipython",
    "version": 3
   },
   "file_extension": ".py",
   "mimetype": "text/x-python",
   "name": "python",
   "nbconvert_exporter": "python",
   "pygments_lexer": "ipython3",
   "version": "3.9.7"
  },
  "varInspector": {
   "cols": {
    "lenName": 16,
    "lenType": 16,
    "lenVar": 40
   },
   "kernels_config": {
    "python": {
     "delete_cmd_postfix": "",
     "delete_cmd_prefix": "del ",
     "library": "var_list.py",
     "varRefreshCmd": "print(var_dic_list())"
    },
    "r": {
     "delete_cmd_postfix": ") ",
     "delete_cmd_prefix": "rm(",
     "library": "var_list.r",
     "varRefreshCmd": "cat(var_dic_list()) "
    }
   },
   "types_to_exclude": [
    "module",
    "function",
    "builtin_function_or_method",
    "instance",
    "_Feature"
   ],
   "window_display": false
  }
 },
 "nbformat": 4,
 "nbformat_minor": 2
}
